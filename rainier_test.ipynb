{
 "cells": [
  {
   "cell_type": "code",
   "execution_count": 3,
   "metadata": {},
   "outputs": [
    {
     "ename": "TypeError",
     "evalue": "unhashable type: 'list'",
     "output_type": "error",
     "traceback": [
      "\u001b[0;31m---------------------------------------------------------------------------\u001b[0m",
      "\u001b[0;31mTypeError\u001b[0m                                 Traceback (most recent call last)",
      "Cell \u001b[0;32mIn[3], line 13\u001b[0m\n\u001b[1;32m     11\u001b[0m score \u001b[38;5;241m=\u001b[39m \u001b[38;5;241m101\u001b[39m \u001b[38;5;241m-\u001b[39m i  \u001b[38;5;66;03m# Calculate the score based on ranking\u001b[39;00m\n\u001b[1;32m     12\u001b[0m artist \u001b[38;5;241m=\u001b[39m artists[i]\n\u001b[0;32m---> 13\u001b[0m \u001b[38;5;28;01mif\u001b[39;00m artist \u001b[38;5;129;01min\u001b[39;00m scores_by_artist:\n\u001b[1;32m     14\u001b[0m     scores_by_artist[artist] \u001b[38;5;241m+\u001b[39m\u001b[38;5;241m=\u001b[39m score\n\u001b[1;32m     15\u001b[0m \u001b[38;5;28;01melse\u001b[39;00m:\n",
      "\u001b[0;31mTypeError\u001b[0m: unhashable type: 'list'"
     ]
    }
   ],
   "source": [
    "# Step 1: Assign Scores Based on Ranking\n",
    "# input variables: song rankings, and name of the artists\n",
    "from extract_data import generate\n",
    "\n",
    "\n",
    "scores_by_artist = {}\n",
    "artists = generate()\n",
    "\n",
    "\n",
    "for i in range(100):\n",
    "    score = 101 - i  # Calculate the score based on ranking\n",
    "    artist = artists[i]\n",
    "    if artist in scores_by_artist:\n",
    "        scores_by_artist[artist] += score\n",
    "    else:\n",
    "        scores_by_artist[artist] = score\n",
    "\n",
    "\n",
    "# Step 2 & 3: Sort Artists by Total Score\n",
    "sorted_artists = sorted(\n",
    "    scores_by_artist.items(), key=lambda x: x[1], reverse=True\n",
    ")\n",
    "\n",
    "\n",
    "# Step 4: Select the Top 5 Artists\n",
    "top_5_artists = sorted_artists[:5]\n",
    "\n",
    "\n",
    "# Print the top 5 artists\n",
    "print(top_5_artists)\n",
    "for rank, (artist, score) in enumerate(top_5_artists, start=1):\n",
    "    print(f\"{rank}. {artist} - Total Score: {score}\")\n",
    "\n",
    "\n"
   ]
  }
 ],
 "metadata": {
  "kernelspec": {
   "display_name": "base",
   "language": "python",
   "name": "python3"
  },
  "language_info": {
   "codemirror_mode": {
    "name": "ipython",
    "version": 3
   },
   "file_extension": ".py",
   "mimetype": "text/x-python",
   "name": "python",
   "nbconvert_exporter": "python",
   "pygments_lexer": "ipython3",
   "version": "3.11.5"
  }
 },
 "nbformat": 4,
 "nbformat_minor": 2
}
