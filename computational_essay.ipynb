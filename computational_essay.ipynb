{
 "cells": [
  {
   "cell_type": "markdown",
   "metadata": {},
   "source": [
    "Has Pop Music Gotten Sadder over the Past 10 Years?\n",
    "\n",
    "Research Question\n",
    "\n",
    " Americans are getting sadder. Ten years ago, a yearly Gallup poll ranked the US as the 11th happiest country. This year, they were ranked 23rd. Senator Chris Murphy recently spoke out on this, saying \"over the last 10 years the rate of happiness, of contentment, of fulfillment, self-reported by Americans, is dropping\". This brings up the interesting question of whether the music we listen to has gotten sadder with us. There is not a clear instinctual answer to this question: one could speculate that we turn to music to escape from our reality, which would mean that our music would get happier as we get sadder, but it is also plausible that we want to relate to music more than we want to use it to escape, which would lead to our music getting sadder with us. In order to investigate this question, we will be performing sentiment analysis on the lyrics of the most popular songs from 2013-2023.\n",
    "\n",
    "Methodology\n",
    "\n",
    "\n",
    "\n",
    " "
   ]
  }
 ],
 "metadata": {
  "language_info": {
   "name": "python"
  }
 },
 "nbformat": 4,
 "nbformat_minor": 2
}
